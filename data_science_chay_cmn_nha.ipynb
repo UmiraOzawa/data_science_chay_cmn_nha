{
  "nbformat": 4,
  "nbformat_minor": 0,
  "metadata": {
    "colab": {
      "name": "data_science_chay_cmn_nha.ipynb",
      "provenance": [],
      "collapsed_sections": [],
      "include_colab_link": true
    },
    "kernelspec": {
      "name": "python3",
      "display_name": "Python 3"
    },
    "language_info": {
      "name": "python"
    }
  },
  "cells": [
    {
      "cell_type": "markdown",
      "metadata": {
        "id": "view-in-github",
        "colab_type": "text"
      },
      "source": [
        "<a href=\"https://colab.research.google.com/github/UmiraOzawa/data_science_chay_cmn_nha/blob/main/data_science_chay_cmn_nha.ipynb\" target=\"_parent\"><img src=\"https://colab.research.google.com/assets/colab-badge.svg\" alt=\"Open In Colab\"/></a>"
      ]
    },
    {
      "cell_type": "code",
      "metadata": {
        "id": "eCE5aEe5sQD_",
        "colab": {
          "base_uri": "https://localhost:8080/"
        },
        "outputId": "5f6393ca-485a-42bd-8196-0db4d8203473"
      },
      "source": [
        "%load_ext rpy2.ipython"
      ],
      "execution_count": null,
      "outputs": [
        {
          "output_type": "stream",
          "name": "stdout",
          "text": [
            "The rpy2.ipython extension is already loaded. To reload it, use:\n",
            "  %reload_ext rpy2.ipython\n"
          ]
        }
      ]
    },
    {
      "cell_type": "code",
      "metadata": {
        "id": "tPIoq14isR8Z",
        "colab": {
          "base_uri": "https://localhost:8080/"
        },
        "outputId": "c92f2e7f-d7ea-42ae-fb66-a8935d6d02be"
      },
      "source": [
        "%%R\n",
        "qchisq(0.05, 1, lower.tail = FALSE)"
      ],
      "execution_count": null,
      "outputs": [
        {
          "output_type": "stream",
          "name": "stdout",
          "text": [
            "[1] 3.841459\n"
          ]
        }
      ]
    },
    {
      "cell_type": "code",
      "metadata": {
        "id": "K0TGMi7Vt5TQ",
        "colab": {
          "base_uri": "https://localhost:8080/"
        },
        "outputId": "ee7a11a4-5a4a-471b-c24d-1f6f5ad4a2b9"
      },
      "source": [
        "import tensorflow as tf\n",
        "import tensorflow.keras.layers as tfl\n",
        "import numpy as np\n",
        "import pandas as pd\n",
        "import sklearn.linear_model\n",
        "\n",
        "df = pd.read_csv(\"/content/sample_data/california_housing_train.csv\")\n",
        "normalized_df=(df-df.min())/(df.max()-df.min())\n",
        "X_train = normalized_df[[\"longitude\",\"latitude\",\"housing_median_age\",\"total_rooms\",\"total_bedrooms\",\"population\",\"households\",\"median_income\"]]\n",
        "Y_train = df[[\"median_house_value\"]]\n",
        "print(X_train.shape, Y_train.shape)\n",
        "print(X_train)\n",
        "\n",
        "def neural_network():\n",
        "  inputs = tf.keras.Input(shape = (X_train.shape[1],))\n",
        "  D1 = tf.keras.layers.Dense(32, activation = \"sigmoid\")(inputs)\n",
        "  outputs = tf.keras.layers.Dense(1)(D1)\n",
        "  model = tf.keras.Model(inputs = inputs, outputs = outputs)\n",
        "  return model\n",
        "\n",
        "model = neural_network()\n",
        "model.compile(optimizer='adam', \n",
        "              loss = \"mse\",\n",
        "              metrics=['mse'])\n",
        "model.fit(X_train, Y_train, epochs =20, batch_size =64)\n",
        "\n",
        "# corr = df.corr()\n",
        "# corr.style.background_gradient(cmap='coolwarm')"
      ],
      "execution_count": null,
      "outputs": [
        {
          "output_type": "stream",
          "name": "stdout",
          "text": [
            "(17000, 8) (17000, 1)\n",
            "       longitude  latitude  ...  households  median_income\n",
            "0       1.000000  0.175345  ...    0.077454       0.068530\n",
            "1       0.984064  0.197662  ...    0.075974       0.091040\n",
            "2       0.975100  0.122210  ...    0.019076       0.079378\n",
            "3       0.974104  0.116897  ...    0.037000       0.185639\n",
            "4       0.974104  0.109458  ...    0.042921       0.098281\n",
            "...          ...       ...  ...         ...            ...\n",
            "16995   0.008964  0.854410  ...    0.060516       0.128081\n",
            "16996   0.007968  0.866100  ...    0.076303       0.139170\n",
            "16997   0.004980  0.988310  ...    0.074823       0.174577\n",
            "16998   0.004980  0.984060  ...    0.078441       0.102054\n",
            "16999   0.000000  0.850159  ...    0.044236       0.173432\n",
            "\n",
            "[17000 rows x 8 columns]\n",
            "Epoch 1/20\n",
            "266/266 [==============================] - 1s 1ms/step - loss: 56423641088.0000 - mse: 56423641088.0000\n",
            "Epoch 2/20\n",
            "266/266 [==============================] - 0s 1ms/step - loss: 56420323328.0000 - mse: 56420323328.0000\n",
            "Epoch 3/20\n",
            "266/266 [==============================] - 0s 1ms/step - loss: 56416112640.0000 - mse: 56416112640.0000\n",
            "Epoch 4/20\n",
            "266/266 [==============================] - 0s 1ms/step - loss: 56411430912.0000 - mse: 56411430912.0000\n",
            "Epoch 5/20\n",
            "266/266 [==============================] - 0s 1ms/step - loss: 56406835200.0000 - mse: 56406835200.0000\n",
            "Epoch 6/20\n",
            "266/266 [==============================] - 0s 1ms/step - loss: 56402530304.0000 - mse: 56402530304.0000\n",
            "Epoch 7/20\n",
            "266/266 [==============================] - 0s 1ms/step - loss: 56398397440.0000 - mse: 56398397440.0000\n",
            "Epoch 8/20\n",
            "266/266 [==============================] - 0s 1ms/step - loss: 56394412032.0000 - mse: 56394412032.0000\n",
            "Epoch 9/20\n",
            "266/266 [==============================] - 0s 1ms/step - loss: 56390504448.0000 - mse: 56390504448.0000\n",
            "Epoch 10/20\n",
            "266/266 [==============================] - 0s 1ms/step - loss: 56386662400.0000 - mse: 56386662400.0000\n",
            "Epoch 11/20\n",
            "266/266 [==============================] - 0s 1ms/step - loss: 56382869504.0000 - mse: 56382869504.0000\n",
            "Epoch 12/20\n",
            "266/266 [==============================] - 0s 1ms/step - loss: 56379113472.0000 - mse: 56379113472.0000\n",
            "Epoch 13/20\n",
            "266/266 [==============================] - 0s 1ms/step - loss: 56375410688.0000 - mse: 56375410688.0000\n",
            "Epoch 14/20\n",
            "266/266 [==============================] - 0s 1ms/step - loss: 56371699712.0000 - mse: 56371699712.0000\n",
            "Epoch 15/20\n",
            "266/266 [==============================] - 0s 1ms/step - loss: 56368013312.0000 - mse: 56368013312.0000\n",
            "Epoch 16/20\n",
            "266/266 [==============================] - 0s 1ms/step - loss: 56364351488.0000 - mse: 56364351488.0000\n",
            "Epoch 17/20\n",
            "266/266 [==============================] - 0s 1ms/step - loss: 56360660992.0000 - mse: 56360660992.0000\n",
            "Epoch 18/20\n",
            "266/266 [==============================] - 0s 1ms/step - loss: 56357011456.0000 - mse: 56357011456.0000\n",
            "Epoch 19/20\n",
            "266/266 [==============================] - 0s 1ms/step - loss: 56353374208.0000 - mse: 56353374208.0000\n",
            "Epoch 20/20\n",
            "266/266 [==============================] - 0s 1ms/step - loss: 56349708288.0000 - mse: 56349708288.0000\n"
          ]
        },
        {
          "output_type": "execute_result",
          "data": {
            "text/plain": [
              "<keras.callbacks.History at 0x7fe74322cc90>"
            ]
          },
          "metadata": {},
          "execution_count": 2
        }
      ]
    },
    {
      "cell_type": "code",
      "metadata": {
        "id": "6SpUx3Cg-t__",
        "colab": {
          "base_uri": "https://localhost:8080/"
        },
        "outputId": "8281561c-d263-43b1-8d6c-782113ed7d31"
      },
      "source": [
        "df1 = pd.read_csv(\"/content/sample_data/california_housing_test.csv\")\n",
        "normalized_df_test=(df-df.min())/(df.max()-df.min())\n",
        "X_test = normalized_df_test[[\"longitude\",\"latitude\",\"housing_median_age\",\"total_rooms\",\"total_bedrooms\",\"population\",\"households\",\"median_income\"]]\n",
        "Y_test = normalized_df_test[[\"median_house_value\"]]\n",
        "\n",
        "model.evaluate(X_test, Y_test)"
      ],
      "execution_count": null,
      "outputs": [
        {
          "output_type": "stream",
          "name": "stdout",
          "text": [
            "532/532 [==============================] - 1s 1ms/step - loss: 0.0169 - mse: 0.0169\n"
          ]
        },
        {
          "output_type": "execute_result",
          "data": {
            "text/plain": [
              "[0.016877884045243263, 0.016877884045243263]"
            ]
          },
          "metadata": {},
          "execution_count": 173
        }
      ]
    },
    {
      "cell_type": "code",
      "metadata": {
        "colab": {
          "base_uri": "https://localhost:8080/"
        },
        "id": "T2jMzWXTjnEa",
        "outputId": "1155cbcb-0b4d-4eda-fb3b-a99a6c7150ab"
      },
      "source": [
        "import tensorflow as tf\n",
        "import tensorflow.keras.layers as tfl\n",
        "import numpy as np\n",
        "import pandas as pd\n",
        "from sklearn.linear_model import LinearRegression\n",
        "\n",
        "df = pd.read_csv(\"/content/sample_data/california_housing_train.csv\")\n",
        "X_train = df[[\"longitude\",\"latitude\",\"housing_median_age\",\"total_rooms\",\"total_bedrooms\",\"population\",\"households\",\"median_income\"]]\n",
        "Y_train = df[[\"median_house_value\"]]\n",
        "print(X_train)\n",
        "model = LinearRegression()\n",
        "model.fit(X_train, Y_train)"
      ],
      "execution_count": null,
      "outputs": [
        {
          "output_type": "stream",
          "name": "stdout",
          "text": [
            "       longitude  latitude  ...  households  median_income\n",
            "0        -114.31     34.19  ...       472.0         1.4936\n",
            "1        -114.47     34.40  ...       463.0         1.8200\n",
            "2        -114.56     33.69  ...       117.0         1.6509\n",
            "3        -114.57     33.64  ...       226.0         3.1917\n",
            "4        -114.57     33.57  ...       262.0         1.9250\n",
            "...          ...       ...  ...         ...            ...\n",
            "16995    -124.26     40.58  ...       369.0         2.3571\n",
            "16996    -124.27     40.69  ...       465.0         2.5179\n",
            "16997    -124.30     41.84  ...       456.0         3.0313\n",
            "16998    -124.30     41.80  ...       478.0         1.9797\n",
            "16999    -124.35     40.54  ...       270.0         3.0147\n",
            "\n",
            "[17000 rows x 8 columns]\n"
          ]
        },
        {
          "output_type": "execute_result",
          "data": {
            "text/plain": [
              "LinearRegression(copy_X=True, fit_intercept=True, n_jobs=None, normalize=False)"
            ]
          },
          "metadata": {},
          "execution_count": 2
        }
      ]
    },
    {
      "cell_type": "code",
      "metadata": {
        "id": "i3tUYi7a40Od",
        "colab": {
          "base_uri": "https://localhost:8080/"
        },
        "outputId": "13cfa112-b6e8-4f7f-b6f7-1c7a1c8705c8"
      },
      "source": [
        "df1 = pd.read_csv(\"/content/sample_data/california_housing_test.csv\")\n",
        "normalized_df1=(df1-df1.min())/(df1.max()-df1.min())\n",
        "X_test = normalized_df1[[\"longitude\",\"latitude\",\"housing_median_age\",\"total_rooms\",\"total_bedrooms\",\"population\",\"households\",\"median_income\"]]\n",
        "Y_test = df1[[\"median_house_value\"]]\n",
        "\n",
        "y_pred = model.predict(X_test)\n",
        "i = input()\n",
        "i = int(i)\n",
        "print(y_pred[i])\n",
        "print(Y_test.iloc[i])"
      ],
      "execution_count": null,
      "outputs": [
        {
          "output_type": "stream",
          "name": "stdout",
          "text": [
            "9\n",
            "[-3649187.86579704]\n",
            "median_house_value    164200.0\n",
            "Name: 9, dtype: float64\n"
          ]
        }
      ]
    },
    {
      "cell_type": "code",
      "metadata": {
        "id": "j41r8LyGlVoW",
        "colab": {
          "base_uri": "https://localhost:8080/"
        },
        "outputId": "724e8a2e-f130-4c65-e324-19848ed657e9"
      },
      "source": [
        "import numpy as np\n",
        "a = np.random.randn(5,)\n",
        "a"
      ],
      "execution_count": null,
      "outputs": [
        {
          "output_type": "execute_result",
          "data": {
            "text/plain": [
              "array([-1.86249729, -1.01961939, -0.86785571,  0.23386401,  2.44452742])"
            ]
          },
          "metadata": {},
          "execution_count": 2
        }
      ]
    }
  ]
}