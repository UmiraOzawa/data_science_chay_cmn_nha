{
  "nbformat": 4,
  "nbformat_minor": 0,
  "metadata": {
    "colab": {
      "name": "s1mple_mnist.ipynb",
      "provenance": [],
      "collapsed_sections": [],
      "authorship_tag": "ABX9TyMWQ1GqmJnnlqTAdSDe/tlS",
      "include_colab_link": true
    },
    "kernelspec": {
      "display_name": "Python 3",
      "name": "python3"
    },
    "language_info": {
      "name": "python"
    }
  },
  "cells": [
    {
      "cell_type": "markdown",
      "metadata": {
        "id": "view-in-github",
        "colab_type": "text"
      },
      "source": [
        "<a href=\"https://colab.research.google.com/github/UmiraOzawa/data_science_chay_cmn_nha/blob/main/s1mple_mnist.ipynb\" target=\"_parent\"><img src=\"https://colab.research.google.com/assets/colab-badge.svg\" alt=\"Open In Colab\"/></a>"
      ]
    },
    {
      "cell_type": "code",
      "metadata": {
        "id": "8gr0Iuo_oWaR"
      },
      "source": [
        "import numpy as np\n",
        "import tensorflow as tf\n",
        "from keras.datasets import mnist\n",
        "import matplotlib.pyplot as plt\n",
        "import matplotlib.image as mpimg\n",
        "from sklearn.neighbors import KNeighborsClassifier"
      ],
      "execution_count": null,
      "outputs": []
    },
    {
      "cell_type": "code",
      "metadata": {
        "colab": {
          "base_uri": "https://localhost:8080/"
        },
        "id": "cSWblGWEoYz5",
        "outputId": "08d1f66e-4f43-436e-f726-caa7d021639d"
      },
      "source": [
        "(X_train, Y_train), (X_test, Y_test) = mnist.load_data()\n",
        "X_train = X_train.reshape(-1,28*28).astype(\"float32\")\n",
        "X_test = X_test.reshape(-1,1,28*28).astype(\"float32\")"
      ],
      "execution_count": null,
      "outputs": [
        {
          "output_type": "stream",
          "name": "stdout",
          "text": [
            "Downloading data from https://storage.googleapis.com/tensorflow/tf-keras-datasets/mnist.npz\n",
            "11493376/11490434 [==============================] - 0s 0us/step\n",
            "11501568/11490434 [==============================] - 0s 0us/step\n"
          ]
        }
      ]
    },
    {
      "cell_type": "code",
      "metadata": {
        "id": "-L57QjZrom2H"
      },
      "source": [
        "def convolution_network():\n",
        "  input_images = tf.keras.Input(shape = (28,28,1))\n",
        "  Z1 = tf.keras.layers.Conv2D(filters = 32, kernel_size = (3,3), strides = (1,1))(input_images)\n",
        "  A1 = tf.keras.layers.ReLU()(Z1)\n",
        "  P1 = tf.keras.layers.MaxPool2D(pool_size = (3,3), strides = (1,1))(A1)\n",
        "  F1 = tf.keras.layers.Flatten()(P1)\n",
        "  D1 = tf.keras.layers.Dense(128, activation = \"relu\")(F1)\n",
        "  D2 = tf.keras.layers.Dense(64, activation = \"relu\")(D1)\n",
        "  D3 = tf.keras.layers.Dense(32, activation = \"relu\")(D2)\n",
        "  outputs = tf.keras.layers.Dense(10, activation = \"softmax\")(D3)\n",
        "  model = tf.keras.Model(inputs = input_images, outputs = outputs)\n",
        "  return model"
      ],
      "execution_count": null,
      "outputs": []
    },
    {
      "cell_type": "code",
      "metadata": {
        "id": "MZtwml6SowaZ"
      },
      "source": [
        "conv_model = convolution_network()\n",
        "conv_model.compile(optimizer='adam',\n",
        "                   loss='categorical_crossentropy',\n",
        "                   metrics=['accuracy'])"
      ],
      "execution_count": null,
      "outputs": []
    },
    {
      "cell_type": "code",
      "metadata": {
        "colab": {
          "base_uri": "https://localhost:8080/"
        },
        "id": "YM3J7DRSox4_",
        "outputId": "4ba70af8-7d46-4ee6-b65c-b5df7837c188"
      },
      "source": [
        "conv_model.fit(X_train, tf.keras.utils.to_categorical(Y_train), epochs=3, batch_size = 20)"
      ],
      "execution_count": null,
      "outputs": [
        {
          "name": "stdout",
          "output_type": "stream",
          "text": [
            "Epoch 1/3\n",
            "3000/3000 [==============================] - 111s 37ms/step - loss: 0.1963 - accuracy: 0.9482\n",
            "Epoch 2/3\n",
            "3000/3000 [==============================] - 110s 37ms/step - loss: 0.0996 - accuracy: 0.9711\n",
            "Epoch 3/3\n",
            "3000/3000 [==============================] - 109s 36ms/step - loss: 0.0784 - accuracy: 0.9778\n"
          ]
        },
        {
          "data": {
            "text/plain": [
              "<keras.callbacks.History at 0x7fc3fecc11d0>"
            ]
          },
          "execution_count": 7,
          "metadata": {},
          "output_type": "execute_result"
        }
      ]
    },
    {
      "cell_type": "code",
      "metadata": {
        "colab": {
          "background_save": true
        },
        "id": "zsfxBn5CozUC",
        "outputId": "64f21ca2-a6c5-4fb2-f701-d89da1317fb1"
      },
      "source": [
        "conv_model.evaluate(X_test, tf.keras.utils.to_categorical(Y_test))"
      ],
      "execution_count": null,
      "outputs": [
        {
          "name": "stdout",
          "output_type": "stream",
          "text": [
            "313/313 [==============================] - 4s 11ms/step - loss: 0.1042 - accuracy: 0.9756\n"
          ]
        },
        {
          "data": {
            "text/plain": [
              "[0.10420946031808853, 0.975600004196167]"
            ]
          },
          "execution_count": null,
          "metadata": {},
          "output_type": "execute_result"
        }
      ]
    },
    {
      "cell_type": "code",
      "metadata": {
        "colab": {
          "base_uri": "https://localhost:8080/",
          "height": 300
        },
        "id": "PdYBBFXWj-OM",
        "outputId": "788f0748-eeeb-4363-9c1e-be72587c1221"
      },
      "source": [
        "y_prob = conv_model.predict(X_test) \n",
        "y_classes = y_prob.argmax(axis = -1)\n",
        "a = input()\n",
        "a = int(a)\n",
        "imgplot = plt.imshow(X_test.reshape(X_test.shape[0],28,28)[a])\n",
        "print(y_classes[a])"
      ],
      "execution_count": null,
      "outputs": [
        {
          "name": "stdout",
          "output_type": "stream",
          "text": [
            "146\n",
            "8\n"
          ]
        },
        {
          "data": {
            "image/png": "[encoded data removed]",
            "text/plain": [
              "<Figure size 432x288 with 1 Axes>"
            ]
          },
          "metadata": {},
          "output_type": "display_data"
        }
      ]
    },
    {
      "cell_type": "code",
      "metadata": {
        "colab": {
          "background_save": true
        },
        "id": "xXNBA9da0oC7",
        "outputId": "0e0556e6-1482-45ec-b240-a13153dfadb7"
      },
      "source": [
        "import numpy as np\n",
        "y_pred = []\n",
        "y = np.array([0.5, 0.4, 0,8, 0.4])\n",
        "y_pred = (y >= 0.5).astype(\"int\")\n",
        "y_pred"
      ],
      "execution_count": null,
      "outputs": [
        {
          "data": {
            "text/plain": [
              "array([1, 0, 0, 1, 0])"
            ]
          },
          "execution_count": null,
          "metadata": {},
          "output_type": "execute_result"
        }
      ]
    },
    {
      "cell_type": "code",
      "metadata": {
        "colab": {
          "base_uri": "https://localhost:8080/"
        },
        "id": "KC3sYdERPM-T",
        "outputId": "17b019e6-aaab-4555-d706-76d3d3446103"
      },
      "source": [
        "model = KNeighborsClassifier()\n",
        "model.fit(X_train, Y_train)"
      ],
      "execution_count": null,
      "outputs": [
        {
          "output_type": "execute_result",
          "data": {
            "text/plain": [
              "KNeighborsClassifier(algorithm='auto', leaf_size=30, metric='minkowski',\n",
              "                     metric_params=None, n_jobs=None, n_neighbors=5, p=2,\n",
              "                     weights='uniform')"
            ]
          },
          "metadata": {},
          "execution_count": 3
        }
      ]
    },
    {
      "cell_type": "code",
      "metadata": {
        "colab": {
          "base_uri": "https://localhost:8080/",
          "height": 299
        },
        "id": "iASrDFaWsEyf",
        "outputId": "53ee8ade-be15-4ed0-eb60-fdb2d08a799e"
      },
      "source": [
        "\n",
        "a = input()\n",
        "a= int(a)\n",
        "y_pred = model.predict(X_test[a])\n",
        "imgplot = plt.imshow(X_test.reshape(X_test.shape[0],28,28)[a])\n",
        "print(y_pred)"
      ],
      "execution_count": null,
      "outputs": [
        {
          "output_type": "stream",
          "name": "stdout",
          "text": [
            "99\n",
            "[9]\n"
          ]
        },
        {
          "output_type": "display_data",
          "data": {
            "image/png": "[encoded data removed]",
            "text/plain": [
              "<Figure size 432x288 with 1 Axes>"
            ]
          },
          "metadata": {
            "needs_background": "light"
          }
        }
      ]
    },
    {
      "cell_type": "code",
      "metadata": {
        "id": "bwYs07Fh1lhD"
      },
      "source": [
        ""
      ],
      "execution_count": null,
      "outputs": []
    }
  ]
}