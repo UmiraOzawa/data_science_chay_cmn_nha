{
  "nbformat": 4,
  "nbformat_minor": 0,
  "metadata": {
    "colab": {
      "name": "hand_on_ml2",
      "provenance": [],
      "authorship_tag": "ABX9TyM8ys/bRwAH1iv0fk6roIZE",
      "include_colab_link": true
    },
    "kernelspec": {
      "name": "python3",
      "display_name": "Python 3"
    },
    "language_info": {
      "name": "python"
    }
  },
  "cells": [
    {
      "cell_type": "markdown",
      "metadata": {
        "id": "view-in-github",
        "colab_type": "text"
      },
      "source": [
        "<a href=\"https://colab.research.google.com/github/UmiraOzawa/data_science_chay_cmn_nha/blob/main/hand_on_ml2.ipynb\" target=\"_parent\"><img src=\"https://colab.research.google.com/assets/colab-badge.svg\" alt=\"Open In Colab\"/></a>"
      ]
    },
    {
      "cell_type": "code",
      "metadata": {
        "id": "T2jMzWXTjnEa",
        "colab": {
          "base_uri": "https://localhost:8080/"
        },
        "outputId": "67510afb-752a-49db-a580-0daeb897e44b"
      },
      "source": [
        "import tensorflow as tf\n",
        "import tensorflow.keras.layers as tfl\n",
        "import numpy as np\n",
        "import pandas as pd\n",
        "import sklearn.neighbors as skn\n",
        "from sklearn.impute import SimpleImputer\n",
        "from sklearn.base import BaseEstimator, TransformerMixin\n",
        "from sklearn.pipeline import Pipeline\n",
        "from sklearn.preprocessing import StandardScaler\n",
        "from sklearn.neighbors import KNeighborsRegressor\n",
        "\n",
        "# column index\n",
        "rooms_ix, bedrooms_ix, population_ix, households_ix = 3, 4, 5, 6\n",
        "\n",
        "class CombinedAttributesAdder(BaseEstimator, TransformerMixin):\n",
        "    def __init__(self, add_bedrooms_per_room=True): # no *args or **kargs\n",
        "        self.add_bedrooms_per_room = add_bedrooms_per_room\n",
        "    def fit(self, X, y=None):\n",
        "        return self  # nothing else to do\n",
        "    def transform(self, X):\n",
        "        rooms_per_household = X[:, rooms_ix] / X[:, households_ix]\n",
        "        population_per_household = X[:, population_ix] / X[:, households_ix]\n",
        "        if self.add_bedrooms_per_room:\n",
        "            bedrooms_per_room = X[:, bedrooms_ix] / X[:, rooms_ix]\n",
        "            return np.c_[X, rooms_per_household, population_per_household,\n",
        "                         bedrooms_per_room]\n",
        "        else:\n",
        "            return np.c_[X, rooms_per_household, population_per_household]\n",
        "        \n",
        "training_data = pd.read_csv(\"/content/sample_data/california_housing_train.csv\")\n",
        "\n",
        "housing = training_data.drop(\"median_house_value\", axis =1)\n",
        "housing_value = training_data[[\"median_house_value\"]].copy()\n",
        "\n",
        "#is_null là hàm xuất ra True nếu có giá trị null, any là hàm xuất ra True nếu có bất kì giá trị nào theo axis là True, nếu ko có thì là False\n",
        "sample_incomplete_rows = housing[housing.isnull().any(axis =1)]\n",
        "print(sample_incomplete_rows)\n",
        "\n",
        "#fill những giá trị còn trống trong collumn \"total_bedrooms\" bằng dropna, hoặc dùng SimpleImputer của sklearn để fill hết vào những ô trống. \n",
        "housing.dropna(subset=[\"total_bedrooms\"])\n",
        "imputer = SimpleImputer(strategy=\"median\")\n",
        "imputer.fit(housing)\n",
        "X = imputer.transform(housing)\n",
        "housing = pd.DataFrame(X, columns = housing.columns, index = housing.index)\n",
        "\n",
        "num_pipeline = Pipeline([\n",
        "        ('imputer', SimpleImputer(strategy=\"median\")),\n",
        "        ('attribs_adder', CombinedAttributesAdder()),\n",
        "        ('std_scaler', StandardScaler()),\n",
        "    ])\n",
        "\n",
        "housing_tr = num_pipeline.fit_transform(housing)\n",
        "print(housing.corr())\n",
        "model = KNeighborsRegressor(n_neighbors=7)\n",
        "model.fit(housing_tr,housing_value)"
      ],
      "execution_count": null,
      "outputs": [
        {
          "output_type": "stream",
          "name": "stdout",
          "text": [
            "Empty DataFrame\n",
            "Columns: [longitude, latitude, housing_median_age, total_rooms, total_bedrooms, population, households, median_income]\n",
            "Index: []\n",
            "                    longitude  latitude  ...  households  median_income\n",
            "longitude            1.000000 -0.925208  ...    0.059628      -0.015485\n",
            "latitude            -0.925208  1.000000  ...   -0.074902      -0.080303\n",
            "housing_median_age  -0.114250  0.016454  ...   -0.302754      -0.115932\n",
            "total_rooms          0.047010 -0.038773  ...    0.919018       0.195383\n",
            "total_bedrooms       0.071802 -0.069373  ...    0.980920      -0.013495\n",
            "population           0.101674 -0.111261  ...    0.909247      -0.000638\n",
            "households           0.059628 -0.074902  ...    1.000000       0.007644\n",
            "median_income       -0.015485 -0.080303  ...    0.007644       1.000000\n",
            "\n",
            "[8 rows x 8 columns]\n"
          ]
        },
        {
          "output_type": "execute_result",
          "data": {
            "text/plain": [
              "KNeighborsRegressor(algorithm='auto', leaf_size=30, metric='minkowski',\n",
              "                    metric_params=None, n_jobs=None, n_neighbors=7, p=2,\n",
              "                    weights='uniform')"
            ]
          },
          "metadata": {},
          "execution_count": 13
        }
      ]
    },
    {
      "cell_type": "code",
      "metadata": {
        "colab": {
          "base_uri": "https://localhost:8080/",
          "height": 545
        },
        "id": "guf6r4fiaRCc",
        "outputId": "94bb2f2e-915e-4731-8bd1-edd324075118"
      },
      "source": [
        "test_data = pd.read_csv(\"/content/sample_data/california_housing_test.csv\")\n",
        "\n",
        "housing_test = test_data.drop(\"median_house_value\", axis =1)\n",
        "housing_value_test = test_data[[\"median_house_value\"]].copy()\n",
        "\n",
        "housing_tr_test = num_pipeline.fit_transform(housing_test)\n",
        "\n",
        "print(model.predict(housing_tr_test))\n",
        "housing_value_test"
      ],
      "execution_count": null,
      "outputs": [
        {
          "output_type": "stream",
          "name": "stdout",
          "text": [
            "[[387785.85714286]\n",
            " [228600.        ]\n",
            " [280100.        ]\n",
            " ...\n",
            " [ 81271.42857143]\n",
            " [167285.71428571]\n",
            " [496029.42857143]]\n"
          ]
        },
        {
          "output_type": "execute_result",
          "data": {
            "text/html": [
              "<div>\n",
              "<style scoped>\n",
              "    .dataframe tbody tr th:only-of-type {\n",
              "        vertical-align: middle;\n",
              "    }\n",
              "\n",
              "    .dataframe tbody tr th {\n",
              "        vertical-align: top;\n",
              "    }\n",
              "\n",
              "    .dataframe thead th {\n",
              "        text-align: right;\n",
              "    }\n",
              "</style>\n",
              "<table border=\"1\" class=\"dataframe\">\n",
              "  <thead>\n",
              "    <tr style=\"text-align: right;\">\n",
              "      <th></th>\n",
              "      <th>median_house_value</th>\n",
              "    </tr>\n",
              "  </thead>\n",
              "  <tbody>\n",
              "    <tr>\n",
              "      <th>0</th>\n",
              "      <td>344700.0</td>\n",
              "    </tr>\n",
              "    <tr>\n",
              "      <th>1</th>\n",
              "      <td>176500.0</td>\n",
              "    </tr>\n",
              "    <tr>\n",
              "      <th>2</th>\n",
              "      <td>270500.0</td>\n",
              "    </tr>\n",
              "    <tr>\n",
              "      <th>3</th>\n",
              "      <td>330000.0</td>\n",
              "    </tr>\n",
              "    <tr>\n",
              "      <th>4</th>\n",
              "      <td>81700.0</td>\n",
              "    </tr>\n",
              "    <tr>\n",
              "      <th>...</th>\n",
              "      <td>...</td>\n",
              "    </tr>\n",
              "    <tr>\n",
              "      <th>2995</th>\n",
              "      <td>225000.0</td>\n",
              "    </tr>\n",
              "    <tr>\n",
              "      <th>2996</th>\n",
              "      <td>237200.0</td>\n",
              "    </tr>\n",
              "    <tr>\n",
              "      <th>2997</th>\n",
              "      <td>62000.0</td>\n",
              "    </tr>\n",
              "    <tr>\n",
              "      <th>2998</th>\n",
              "      <td>162500.0</td>\n",
              "    </tr>\n",
              "    <tr>\n",
              "      <th>2999</th>\n",
              "      <td>500001.0</td>\n",
              "    </tr>\n",
              "  </tbody>\n",
              "</table>\n",
              "<p>3000 rows × 1 columns</p>\n",
              "</div>"
            ],
            "text/plain": [
              "      median_house_value\n",
              "0               344700.0\n",
              "1               176500.0\n",
              "2               270500.0\n",
              "3               330000.0\n",
              "4                81700.0\n",
              "...                  ...\n",
              "2995            225000.0\n",
              "2996            237200.0\n",
              "2997             62000.0\n",
              "2998            162500.0\n",
              "2999            500001.0\n",
              "\n",
              "[3000 rows x 1 columns]"
            ]
          },
          "metadata": {},
          "execution_count": 3
        }
      ]
    },
    {
      "cell_type": "code",
      "metadata": {
        "id": "7JnHgKJqd8iR"
      },
      "source": [
        ""
      ],
      "execution_count": null,
      "outputs": []
    }
  ]
}